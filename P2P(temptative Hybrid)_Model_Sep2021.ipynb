{
 "cells": [
  {
   "cell_type": "code",
   "execution_count": 1,
   "metadata": {},
   "outputs": [],
   "source": [
    "###### Giada Barzaghi - SEPTEMBER 2021\n",
    "### Modeling aviation networks: hybrid networks \n",
    "\n",
    "### Goal 1. integrating the concept of itinerary \n",
    "### Goal 2. insert some more realistic values for the variables in the model (eg. from Seymour, EMEP/EEA spreadsheet)\n",
    "### Goal 3: REPRESENT NETWORK GRAPHICALLY + other graphs + Adobe Illustrator\n",
    "\n",
    "# SETTING UP WORKING ENVIRONMENT\n",
    "import numpy as np\n",
    "import matplotlib.pyplot as plt\n",
    "import pandas as pd\n",
    "import seaborn as sns\n",
    "from pyomo.environ import *\n",
    "import string"
   ]
  },
  {
   "cell_type": "code",
   "execution_count": 2,
   "metadata": {},
   "outputs": [
    {
     "name": "stdout",
     "output_type": "stream",
     "text": [
      "['A', 'B', 'C', 'D', 'E', 'F', 'G', 'H', 'I', 'J', 'K', 'L', 'M', 'N', 'O', 'P', 'Q', 'R', 'S', 'T', 'U', 'V', 'W', 'X', 'Y', 'Z']\n"
     ]
    }
   ],
   "source": [
    "# CREATING SETS AND ASSIGNING VALUES TO VARIABLES\n",
    "\n",
    "# SET OF AIRPORTS\n",
    "\n",
    "airports = list(string.ascii_uppercase)\n",
    "print(airports)"
   ]
  },
  {
   "cell_type": "code",
   "execution_count": 3,
   "metadata": {},
   "outputs": [
    {
     "name": "stdout",
     "output_type": "stream",
     "text": [
      "[('A', '-', 'C'), ('A', '-', 'D'), ('A', '-', 'E'), ('A', '-', 'F'), ('A', '-', 'G'), ('A', '-', 'H'), ('A', '-', 'I'), ('A', '-', 'J'), ('A', '-', 'K')]\n"
     ]
    }
   ],
   "source": [
    "# SET OF AIRPORT PAIRS\n",
    "# ---> note: remember difference city-pair / airport-pair\n",
    "AP = [(n1, n2) \n",
    "    for n1 in airports \n",
    "    for n2 in airports\n",
    "     if n1!=n2]\n",
    "\n",
    "#print(A)\n",
    "\n",
    "# SET OF NON-STOP ITINERARIES\n",
    "I0 = []\n",
    "for x in AP:\n",
    "    x= list(x)\n",
    "    x.insert(1, \"-\")\n",
    "    x= tuple(x)\n",
    "    I0.append(x)\n",
    "\n",
    "print(I0[1:10])"
   ]
  },
  {
   "cell_type": "code",
   "execution_count": 4,
   "metadata": {},
   "outputs": [
    {
     "name": "stdout",
     "output_type": "stream",
     "text": [
      "[('A', 'B', 'D'), ('A', 'B', 'E'), ('A', 'B', 'F'), ('A', 'B', 'G'), ('A', 'B', 'H'), ('A', 'B', 'I'), ('A', 'B', 'J'), ('A', 'B', 'K'), ('A', 'B', 'L')]\n"
     ]
    }
   ],
   "source": [
    "# SET OF ONE-STOP ITINERARIES \n",
    "I1 = [(n1, n2, n3)\n",
    "    for n1 in airports\n",
    "    for n2 in airports\n",
    "    for n3 in airports\n",
    "    if n1!=n2\n",
    "    if n1!=n3\n",
    "    if n3!=n2]\n",
    "print(I1[1:10])"
   ]
  },
  {
   "cell_type": "code",
   "execution_count": 5,
   "metadata": {},
   "outputs": [
    {
     "name": "stdout",
     "output_type": "stream",
     "text": [
      "[('A', '-', 'C'), ('A', '-', 'D'), ('A', '-', 'E'), ('A', '-', 'F'), ('A', '-', 'G'), ('A', '-', 'H'), ('A', '-', 'I'), ('A', '-', 'J'), ('A', '-', 'K')] [('Z', 'Y', 'O'), ('Z', 'Y', 'P'), ('Z', 'Y', 'Q'), ('Z', 'Y', 'R'), ('Z', 'Y', 'S'), ('Z', 'Y', 'T'), ('Z', 'Y', 'U'), ('Z', 'Y', 'V'), ('Z', 'Y', 'W')]\n"
     ]
    }
   ],
   "source": [
    "# COMPLETE SET OF ITINERARIES \n",
    "I = I0+I1\n",
    "print(I[1:10], I[-10:-1])"
   ]
  },
  {
   "cell_type": "code",
   "execution_count": 6,
   "metadata": {},
   "outputs": [
    {
     "name": "stdout",
     "output_type": "stream",
     "text": [
      "Number of aircraft models from EEA/EMEP: 464\n",
      "Number of aircraft models from Seymour et al.2020: 133\n"
     ]
    }
   ],
   "source": [
    "# IMPORTING DATA FROM EEA/EMEP AIR POLLUTANT EMISSION INVENTORY GUIDEBOOK 2019\n",
    "# (saved in my GitHub directory)\n",
    "url = 'https://raw.githubusercontent.com/GiadaBarzaghi/MSc-Dissertation-/main/EEA%3AEMEP%20air%20pollutant%20emission%20inventory%202019.csv'\n",
    "df = pd.read_csv(url,index_col=0)\n",
    "df.head()\n",
    "\n",
    "# Subsetting the imported dataframe\n",
    "df = df[['Sector', 'Type', 'Technology', 'Pollutant', 'Value', 'Unit']]\n",
    "# Dropping null values\n",
    "df = df.dropna()\n",
    "\n",
    "# Creating list of aircraft models \n",
    "A1 = df[['Technology']].to_numpy()\n",
    "print('Number of aircraft models from EEA/EMEP: '+str(len(A1)))\n",
    "\n",
    "\n",
    "####################################################################\n",
    "\n",
    "# IMPORTING DATA FROM SEYMOUR ET AL. 2020 - FEAT MODEL \n",
    "url1 = 'https://raw.githubusercontent.com/kwdseymour/FEAT/master/aircraft_type_designators.csv'\n",
    "aircraft_type_designators = pd.read_csv(url1, index_col=0)\n",
    "A = aircraft_type_designators[['ac_code_icao']].to_numpy()\n",
    "A = [tuple(n) for n in A]\n",
    "print('Number of aircraft models from Seymour et al.2020: '+str(len(A)))"
   ]
  },
  {
   "cell_type": "code",
   "execution_count": 7,
   "metadata": {},
   "outputs": [
    {
     "name": "stdout",
     "output_type": "stream",
     "text": [
      "<class 'pandas.core.frame.DataFrame'>\n",
      "Index: 464 entries, 1.A.3.a.i.(i) to 1.A.3.a.ii.(i)\n",
      "Data columns (total 6 columns):\n",
      " #   Column      Non-Null Count  Dtype  \n",
      "---  ------      --------------  -----  \n",
      " 0   Sector      464 non-null    object \n",
      " 1   Type        464 non-null    object \n",
      " 2   Technology  464 non-null    object \n",
      " 3   Pollutant   464 non-null    object \n",
      " 4   Value       464 non-null    float64\n",
      " 5   Unit        464 non-null    object \n",
      "dtypes: float64(1), object(5)\n",
      "memory usage: 25.4+ KB\n",
      "<class 'pandas.core.frame.DataFrame'>\n",
      "Int64Index: 133 entries, 0 to 132\n",
      "Data columns (total 5 columns):\n",
      " #   Column        Non-Null Count  Dtype \n",
      "---  ------        --------------  ----- \n",
      " 0   ac_code_iata  133 non-null    object\n",
      " 1   ac_code_icao  133 non-null    object\n",
      " 2   bada_model    133 non-null    object\n",
      " 3   ac_name_oag   133 non-null    object\n",
      " 4   ac_name_ps    97 non-null     object\n",
      "dtypes: object(5)\n",
      "memory usage: 6.2+ KB\n"
     ]
    }
   ],
   "source": [
    "df.info()\n",
    "aircraft_type_designators.info()"
   ]
  },
  {
   "cell_type": "code",
   "execution_count": 8,
   "metadata": {},
   "outputs": [],
   "source": [
    "# Assigning a random capacity to each aircraft model \n",
    "# TO DO : Look up realistic values\n",
    "np.random.seed(12345)\n",
    "K = {}\n",
    "for a in A:\n",
    "    K[a]=np.random.randint(100,300)\n",
    "    \n",
    "#print(K)"
   ]
  },
  {
   "cell_type": "code",
   "execution_count": 9,
   "metadata": {},
   "outputs": [],
   "source": [
    "# Assigning random demand to each itinerary\n",
    "# -> from normal distribution ----> THEN WITH MULTINOMIAL LOGIT (?)\n",
    "np.random.seed(12345)\n",
    "D={}\n",
    "for i in I:\n",
    "    D[i]=np.random.normal(100, 10)/100\n",
    "    \n",
    "#print(D)"
   ]
  },
  {
   "cell_type": "code",
   "execution_count": 11,
   "metadata": {},
   "outputs": [
    {
     "name": "stdout",
     "output_type": "stream",
     "text": [
      "[((('A', '-', 'B'), ('A140',)), 974), ((('A', '-', 'B'), ('A148',)), 184)]\n"
     ]
    },
    {
     "data": {
      "text/plain": [
       "2161250"
      ]
     },
     "execution_count": 11,
     "metadata": {},
     "output_type": "execute_result"
    }
   ],
   "source": [
    "############## ! ! ! ! ! !\n",
    "# work in progress - see Aug2021 for attemps to database creation \n",
    "# THIS IS HOW YOU ASSIGNED VALUES FOR POLLUTION IN THE P2P MODEL - temporary solution \n",
    "P = {}\n",
    "for i in I:\n",
    "    for a in A:\n",
    "        P[i, a]=np.random.randint(50, 1000)\n",
    "print(list(P.items())[0:2])\n",
    "len(P)"
   ]
  },
  {
   "cell_type": "code",
   "execution_count": 12,
   "metadata": {},
   "outputs": [],
   "source": [
    "# Creating a dummy for whether a flight-leg can be executed or not with a specific aircraft model:\n",
    "# (0.5 probability of being yes/1)\n",
    "R = {}\n",
    "for i in I:\n",
    "    for a in A:\n",
    "        if np.random.randn()<=0.5:\n",
    "            R[i, a]=1\n",
    "        else:\n",
    "            R[i, a]=0"
   ]
  },
  {
   "cell_type": "code",
   "execution_count": 13,
   "metadata": {},
   "outputs": [],
   "source": [
    "# Assigning random values for max utilization of each aircraft type\n",
    "# TO DO: LOOK UP REALISTIC ONES \n",
    "W = {}\n",
    "for a in A:\n",
    "    W[a] = np.random.randint(10, 50)"
   ]
  },
  {
   "cell_type": "code",
   "execution_count": 20,
   "metadata": {},
   "outputs": [],
   "source": [
    "# SETTING UP THE CONCRETE MODEL \n",
    "# initializing paramaters and sets\n",
    "m = ConcreteModel()\n",
    "m.I = Set(initialize=I) \n",
    "m.A = Set(initialize=A)\n",
    "m.K = Param(m.A, initialize=K)\n",
    "m.W = Param(m.A, initialize = W)\n",
    "m.D = Param(m.I, initialize=D)\n",
    "m.P = Param(m.I, m.A, initialize=P)\n",
    "m.R = Param(m.I, m.A, initialize=R)\n",
    "\n",
    "# setting up decision variables\n",
    "m.f=Var(m.I, m.A, domain=NonNegativeIntegers) # f = frequency of flights operated by aircraft type A on itinerary I \n",
    "m.z=Var(m.A, domain=NonNegativeIntegers) # z= number of aircrafts type A\n",
    "\n",
    "# setting up model objective and constraints\n",
    "# OBJECTIVE\n",
    "def minimize_pollution(m):\n",
    "    return sum(m.f[i,a]*m.P[i,a]\n",
    "              for i in m.I for a in m.A)\n",
    "m.objective=Objective(rule=minimize_pollution, sense=minimize)\n",
    "\n",
    "# CONSTRAINTS \n",
    "def utilization_rule(m, a):\n",
    "    return sum(m.f[i,a]\n",
    "              for i in m.I)<=m.W[a]*m.z[a]\n",
    "m.utilization= Constraint(m.A, rule=utilization_rule)\n",
    "\n",
    "def demand_rule(m, i1, i2, i3):\n",
    "    return sum(m.f[i1, i2, i3, a]*m.K[a]\n",
    "              for a in m.A)>=m.D[i1, i2, i3]\n",
    "m.demand_rule = Constraint(m.I, rule = demand_rule)\n",
    "\n",
    "def operational_rule(m, i1, i2, i3):\n",
    "    return sum(m.f[i,a] \n",
    "              for I in m.I)<=m.R[i,a]*m.f[i,a]\n",
    "m.operational_rule = Constraint(m.I, rule=operational_rule)\n"
   ]
  },
  {
   "cell_type": "code",
   "execution_count": null,
   "metadata": {},
   "outputs": [],
   "source": [
    "# calling the solver -> using cbc\n",
    "\n",
    "#%%time # what do we need this for?\n",
    "opt = SolverFactory('cbc', executable=r'/usr/local/bin/cbc')\n",
    "opt.options['mipgap']=0.20 \n",
    "results = opt.solve(m, tee=False) # tee=True to see the output of the model"
   ]
  },
  {
   "cell_type": "code",
   "execution_count": null,
   "metadata": {},
   "outputs": [],
   "source": [
    "# PRINTING SOME RESULTS\n",
    "# 1. number of aircrafts for each model type\n",
    "for a in m.A:\n",
    "    print('Aircraft type: '+str(a))\n",
    "    print('Number of aircrafts: '+str(m.z[a].value))\n",
    "\n",
    "# 2. frequancy of flights on itinerary i operated with aircraft type a\n",
    "for i in m.I:\n",
    "    for a in m.A:\n",
    "        print('Flight leg: %s; \\naircraft type: %s; \\nnumber of flights operated: %s\\n' \n",
    "             % (i, a, m.f[i,a].value))"
   ]
  }
 ],
 "metadata": {
  "kernelspec": {
   "display_name": "Python 3",
   "language": "python",
   "name": "python3"
  },
  "language_info": {
   "codemirror_mode": {
    "name": "ipython",
    "version": 3
   },
   "file_extension": ".py",
   "mimetype": "text/x-python",
   "name": "python",
   "nbconvert_exporter": "python",
   "pygments_lexer": "ipython3",
   "version": "3.8.5"
  }
 },
 "nbformat": 4,
 "nbformat_minor": 4
}
