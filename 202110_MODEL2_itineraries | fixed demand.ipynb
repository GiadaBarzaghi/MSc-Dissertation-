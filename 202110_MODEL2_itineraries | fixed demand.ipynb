{
 "cells": [
  {
   "cell_type": "markdown",
   "metadata": {},
   "source": [
    "### GIADA BARZAGHI - OCTOBER 2021\n",
    "## MODEL 2: ITINERARIES AND FIXED DEMAND\n",
    "#### OPTIMIZING AVIATION NETWORKS TO MINIMIZE POLLUTION "
   ]
  },
  {
   "cell_type": "code",
   "execution_count": 80,
   "metadata": {},
   "outputs": [],
   "source": [
    "# GIADA BARZAGHI - SEPTEMBER 2021\n",
    "# MODEL 2: WITH ITINERARIES AND FIXED DEMAND\n",
    "\n",
    "# SETTING UP WORKING ENVIRONMENT \n",
    "import numpy as np\n",
    "import matplotlib.pyplot as plt\n",
    "import pandas as pd\n",
    "import seaborn as sns\n",
    "from pyomo.environ import *\n",
    "import string\n",
    "import math as math\n",
    "import random\n",
    "import itertools\n",
    "import geopandas # on terminal: conda activate geo_env ---- jupyter notebook if not launching from anaconda navigator \n",
    "from shapely.geometry import Point, Polygon\n",
    "import geopy\n",
    "from geopy.distance import great_circle"
   ]
  },
  {
   "cell_type": "markdown",
   "metadata": {},
   "source": [
    "# PRE PROCESSING"
   ]
  },
  {
   "cell_type": "markdown",
   "metadata": {},
   "source": [
    "# Inserting some real-world data "
   ]
  },
  {
   "cell_type": "markdown",
   "metadata": {},
   "source": [
    "TO DOs: \n",
    "- DONE: Great circle distance NOT cartesian -> basato su latitudini e longitudini \n",
    "- DONE: calcola pollution in CO2: fuel from seymour (regressione con distanza in great circle distance) x fattore di conversione indicato da Seymour (3.16) --> cambia la p nei dati \n",
    "- DONE: lat e long da https://openflights.org/data.html (lat e long fornite per ogni aeroporto) - Seymour gets data from Planespotters.net\n",
    "- DONE: itinreari + flights generati da una lista di lettere i.e. crea in automatico l'insieme i (fai prima insieme con trattino e poi quelli senza trattino, poi li sommi in un unico insieme) e l'insieme f (lista di tuple) da una lista di lettere --> tutte le coppie possibili con rispettivi itinerari \n"
   ]
  },
  {
   "cell_type": "markdown",
   "metadata": {},
   "source": [
    "### REAL-WORLD DATA ON LATITUDE AND LONGITUDE "
   ]
  },
  {
   "cell_type": "markdown",
   "metadata": {},
   "source": [
    "Selecting some European airports from  https://openflights.org/data.html with related data on latitude and longitude \n",
    "- Milano Malpensa: MXP, lat: 45.6306, long: 8.72811\n",
    "- Amsterdam Schiphol: AMS, lat: 52.308601, long: 4.76389\n",
    "- Budapest: BUD, lat: 47.42976, long: 19.261093\n",
    "- Athen Helenikon Airport: HEW, lat: 37.893299, long: 23.726101 "
   ]
  },
  {
   "cell_type": "code",
   "execution_count": 81,
   "metadata": {},
   "outputs": [
    {
     "data": {
      "text/html": [
       "<div>\n",
       "<style scoped>\n",
       "    .dataframe tbody tr th:only-of-type {\n",
       "        vertical-align: middle;\n",
       "    }\n",
       "\n",
       "    .dataframe tbody tr th {\n",
       "        vertical-align: top;\n",
       "    }\n",
       "\n",
       "    .dataframe thead th {\n",
       "        text-align: right;\n",
       "    }\n",
       "</style>\n",
       "<table border=\"1\" class=\"dataframe\">\n",
       "  <thead>\n",
       "    <tr style=\"text-align: right;\">\n",
       "      <th></th>\n",
       "      <th>City</th>\n",
       "      <th>IATA code</th>\n",
       "      <th>Latitude</th>\n",
       "      <th>Longitude</th>\n",
       "    </tr>\n",
       "  </thead>\n",
       "  <tbody>\n",
       "    <tr>\n",
       "      <th>0</th>\n",
       "      <td>Milano Malpensa</td>\n",
       "      <td>MXP</td>\n",
       "      <td>45.6306</td>\n",
       "      <td>8.72811</td>\n",
       "    </tr>\n",
       "    <tr>\n",
       "      <th>1</th>\n",
       "      <td>Amsterdam Schiphol</td>\n",
       "      <td>AMS</td>\n",
       "      <td>52.308601</td>\n",
       "      <td>4.76389</td>\n",
       "    </tr>\n",
       "    <tr>\n",
       "      <th>2</th>\n",
       "      <td>Budapest</td>\n",
       "      <td>BUD</td>\n",
       "      <td>47.42976</td>\n",
       "      <td>19.261093</td>\n",
       "    </tr>\n",
       "    <tr>\n",
       "      <th>3</th>\n",
       "      <td>Athen Helenikon</td>\n",
       "      <td>HEW</td>\n",
       "      <td>37.893299</td>\n",
       "      <td>23.726101</td>\n",
       "    </tr>\n",
       "  </tbody>\n",
       "</table>\n",
       "</div>"
      ],
      "text/plain": [
       "                 City IATA code   Latitude  Longitude\n",
       "0     Milano Malpensa       MXP    45.6306    8.72811\n",
       "1  Amsterdam Schiphol       AMS  52.308601    4.76389\n",
       "2            Budapest       BUD   47.42976  19.261093\n",
       "3     Athen Helenikon       HEW  37.893299  23.726101"
      ]
     },
     "execution_count": 81,
     "metadata": {},
     "output_type": "execute_result"
    }
   ],
   "source": [
    "# creating a small sample dataframe of Europena airports \n",
    "DF = pd.DataFrame(\n",
    "    {'City': ['Milano Malpensa', 'Amsterdam Schiphol', 'Budapest', 'Athen Helenikon'],\n",
    "    'IATA code':['MXP', 'AMS', 'BUD', 'HEW'], \n",
    "    'Latitude': ['45.6306', '52.308601', '47.42976', '37.893299'], \n",
    "    'Longitude': ['8.72811', '4.76389', '19.261093', '23.726101']})\n",
    "DF.head()"
   ]
  },
  {
   "cell_type": "markdown",
   "metadata": {},
   "source": [
    "### GEOGRAPHIC REPRESENTATION"
   ]
  },
  {
   "cell_type": "code",
   "execution_count": 82,
   "metadata": {},
   "outputs": [
    {
     "data": {
      "text/plain": [
       "<AxesSubplot:>"
      ]
     },
     "execution_count": 82,
     "metadata": {},
     "output_type": "execute_result"
    },
    {
     "data": {
      "image/png": "[encoded data removed]",
      "text/plain": [
       "<Figure size 432x288 with 1 Axes>"
      ]
     },
     "metadata": {
      "needs_background": "light"
     },
     "output_type": "display_data"
    }
   ],
   "source": [
    "# creating the geopandas dataframe \n",
    "gdf = geopandas.GeoDataFrame(\n",
    "    DF, geometry=geopandas.points_from_xy(DF.Longitude, DF.Latitude))\n",
    "gdf.head()\n",
    "gdf.plot(color='red')"
   ]
  },
  {
   "cell_type": "code",
   "execution_count": 83,
   "metadata": {},
   "outputs": [
    {
     "data": {
      "image/png": "[encoded data removed]",
      "text/plain": [
       "<Figure size 432x288 with 1 Axes>"
      ]
     },
     "metadata": {
      "needs_background": "light"
     },
     "output_type": "display_data"
    }
   ],
   "source": [
    "# plotting the coordinates on a map \n",
    "world = geopandas.read_file(geopandas.datasets.get_path('naturalearth_lowres'))\n",
    "\n",
    "# We restrict to Europe.\n",
    "eu = world[world.continent == 'Europe']\n",
    "\n",
    "#Remove Russia and Iceland from map of Europe\n",
    "eu=eu[(eu.name!='Russia') & (eu.name!='Iceland')]\n",
    "#eu.plot()\n",
    "\n",
    "# Create a custom polygon to remove French Guinea from map\n",
    "polygon = Polygon([(-25,35), (40,35), (40,75),(-25,75)])\n",
    "poly_gdf = geopandas.GeoDataFrame([1], geometry=[polygon], crs=world.crs)\n",
    "\n",
    "#Clip polygon from the map of Europe\n",
    "europe=geopandas.clip(eu, polygon) \n",
    "\n",
    "fig,ax=plt.subplots()\n",
    "ax=europe.plot(ax=ax)\n",
    "\n",
    "# We can now plot our ``GeoDataFrame``.\n",
    "gdf.plot(ax=ax, color='red')\n",
    "\n",
    "plt.show()\n",
    "\n",
    "# !!!!! points are a bit out of place "
   ]
  },
  {
   "cell_type": "markdown",
   "metadata": {},
   "source": [
    "### GREAT CIRCLE DISTANCE BETWEEN AIRPORTS"
   ]
  },
  {
   "cell_type": "code",
   "execution_count": 84,
   "metadata": {},
   "outputs": [],
   "source": [
    "import math\n",
    "\n",
    "def distance_on_unit_sphere(start, end):\n",
    "    lat1 = float(start[0])\n",
    "    long1 = float(start[1])\n",
    "    lat2= float(end[0])\n",
    "    long2 = float(end[1])\n",
    "\n",
    "    # Convert latitude and longitude to \n",
    "    # spherical coordinates in radians.\n",
    "    degrees_to_radians = math.pi/180.0\n",
    "        \n",
    "    # phi = 90 - latitude\n",
    "    phi1 = (90.0 - lat1)*degrees_to_radians\n",
    "    phi2 = (90.0 - lat2)*degrees_to_radians\n",
    "        \n",
    "    # theta = longitude\n",
    "    theta1 = long1*degrees_to_radians\n",
    "    theta2 = long2*degrees_to_radians\n",
    "        \n",
    "    # Compute spherical distance from spherical coordinates.\n",
    "        \n",
    "    # For two locations in spherical coordinates \n",
    "    # (1, theta, phi) and (1, theta, phi)\n",
    "    # cosine( arc length ) = \n",
    "    #    sin phi sin phi' cos(theta-theta') + cos phi cos phi'\n",
    "    # distance = rho * arc length\n",
    "    \n",
    "    cos = (math.sin(phi1)*math.sin(phi2)*math.cos(theta1 - theta2) + \n",
    "           math.cos(phi1)*math.cos(phi2))\n",
    "    arc = math.acos( cos )\n",
    "    # Remember to multiply arc by the radius of the earth \n",
    "    # in your favorite set of units to get length.\n",
    "    distance = arc*6378 #equatorial radius in km \n",
    "\n",
    "   \n",
    "    return distance\n",
    "\n",
    "# NOTE: THIS FUNCTION RETURNS VALUES THAT ARE IN BETWEEN 0-1 UNITS LARGER THAN THOSE RETURNED BY geopy.great_circle"
   ]
  },
  {
   "cell_type": "code",
   "execution_count": 85,
   "metadata": {},
   "outputs": [
    {
     "data": {
      "text/html": [
       "<div>\n",
       "<style scoped>\n",
       "    .dataframe tbody tr th:only-of-type {\n",
       "        vertical-align: middle;\n",
       "    }\n",
       "\n",
       "    .dataframe tbody tr th {\n",
       "        vertical-align: top;\n",
       "    }\n",
       "\n",
       "    .dataframe thead th {\n",
       "        text-align: right;\n",
       "    }\n",
       "</style>\n",
       "<table border=\"1\" class=\"dataframe\">\n",
       "  <thead>\n",
       "    <tr style=\"text-align: right;\">\n",
       "      <th></th>\n",
       "      <th>MXP</th>\n",
       "      <th>AMS</th>\n",
       "      <th>BUD</th>\n",
       "      <th>HEW</th>\n",
       "    </tr>\n",
       "  </thead>\n",
       "  <tbody>\n",
       "    <tr>\n",
       "      <th>MXP</th>\n",
       "      <td>0.000000</td>\n",
       "      <td>797.517773</td>\n",
       "      <td>830.418336</td>\n",
       "      <td>1510.213851</td>\n",
       "    </tr>\n",
       "    <tr>\n",
       "      <th>AMS</th>\n",
       "      <td>797.517773</td>\n",
       "      <td>0.000000</td>\n",
       "      <td>1170.496193</td>\n",
       "      <td>2176.567773</td>\n",
       "    </tr>\n",
       "    <tr>\n",
       "      <th>BUD</th>\n",
       "      <td>830.418336</td>\n",
       "      <td>1170.496193</td>\n",
       "      <td>0.000000</td>\n",
       "      <td>1122.229051</td>\n",
       "    </tr>\n",
       "    <tr>\n",
       "      <th>HEW</th>\n",
       "      <td>1510.213851</td>\n",
       "      <td>2176.567773</td>\n",
       "      <td>1122.229051</td>\n",
       "      <td>0.000000</td>\n",
       "    </tr>\n",
       "  </tbody>\n",
       "</table>\n",
       "</div>"
      ],
      "text/plain": [
       "             MXP          AMS          BUD          HEW\n",
       "MXP     0.000000   797.517773   830.418336  1510.213851\n",
       "AMS   797.517773     0.000000  1170.496193  2176.567773\n",
       "BUD   830.418336  1170.496193     0.000000  1122.229051\n",
       "HEW  1510.213851  2176.567773  1122.229051     0.000000"
      ]
     },
     "execution_count": 85,
     "metadata": {},
     "output_type": "execute_result"
    }
   ],
   "source": [
    "# creating latlon column in dataframe\n",
    "DF['latlon'] = list(zip(DF['Latitude'], DF['Longitude']))\n",
    "\n",
    "# creating an empty squared df to populate with distances later (initiate with zeroes)\n",
    "square = pd.DataFrame(\n",
    "    np.zeros((DF.shape[0], DF.shape[0])),\n",
    "    index=DF.index, columns=DF.index\n",
    ")\n",
    "\n",
    "# defining the distance function: returns distance between a point and all the others in the network \n",
    "def get_distance(col):\n",
    "    end = DF.loc[col.name, 'latlon']\n",
    "    return DF['latlon'].apply(distance_on_unit_sphere,\n",
    "                              args=(end,)\n",
    "                             )\n",
    "\n",
    "distances = square.apply(get_distance, axis=1).T\n",
    "distances = distances.rename(columns={0: 'MXP',1:'AMS', 2:'BUD', 3:'HEW'}, index={0: 'MXP',1:'AMS', 2:'BUD', 3:'HEW'})\n",
    "distances"
   ]
  },
  {
   "cell_type": "markdown",
   "metadata": {},
   "source": [
    "### SETS OF AIRPORTS, MARKETS, FLIGHT LEGS AND ITINERARIES"
   ]
  },
  {
   "cell_type": "code",
   "execution_count": 95,
   "metadata": {},
   "outputs": [
    {
     "name": "stdout",
     "output_type": "stream",
     "text": [
      "[('MXP', 'AMS'), ('MXP', 'BUD'), ('MXP', 'HEW'), ('AMS', 'BUD'), ('AMS', 'HEW'), ('BUD', 'HEW')]\n"
     ]
    }
   ],
   "source": [
    "# 1: CREATING THE LIST OF AIRPORTS USING IATA CODES\n",
    "Airports = DF['IATA code']\n",
    "\n",
    "# 2: GENERATING ALL POSSIBLE COMBINATIONS OF AIRPORTS TO OBTAIN FLIGHT LEGS\n",
    "F = list(itertools.combinations(Airports, 2))\n",
    "print(F)\n",
    "\n",
    "# 2.1: FOR NOW ASSUMING THAT EACH MARKET IS EQUIVALENT TO AIRPORT-PAIRS (RATHER THAN CITY-PAIRS)\n",
    "# CREATING SET OF MARKETS\n",
    "M = F \n",
    "\n",
    "# 3: GENERATING ALL POSSIBLE ITINERARIES :\n",
    "\n",
    "# CREATING A FUNCTION THAT GENERATES ALL POSSIBLE ITINERARIES FROM A LIST OF FLIGHT LEGS (TAKES F AS INPUT) \n",
    "def create_itineraries(F):\n",
    "#set of non stop itineraries\n",
    "    non_stop = [] \n",
    "    for f in F: \n",
    "        i = (f[0], '-', f[1])\n",
    "        non_stop.append(i)\n",
    "\n",
    "# set of one-stop itineraries \n",
    "    F1 = F\n",
    "    one_stop = []\n",
    "    for f in F: \n",
    "        for t in F1:\n",
    "             if f[1]==t[0]:\n",
    "                i = (f[0], f[1], t[1])\n",
    "                one_stop.append(i)\n",
    "   \n",
    "#set of all itineraries \n",
    "    I = non_stop + one_stop\n",
    "    #print(I)\n",
    "    return I\n",
    "\n",
    "# APPLYING THE FUNCTION\n",
    "I = create_itineraries(F)"
   ]
  },
  {
   "cell_type": "markdown",
   "metadata": {},
   "source": [
    "### POLLUTION FOR EACH FLIGHT-LEG\n"
   ]
  },
  {
   "cell_type": "markdown",
   "metadata": {},
   "source": [
    "#### Fuel consumption regressions for chosen aircraft models: (Appendix Table M.7) Seymour et al. 2020\n",
    "- E170: F = 7.15e−5d^2gc + 1.79dgc + 746\n",
    "- A319: F = 7.70e−5d^2gc + 2.32dgc + 1280\n",
    "- A321: F = −5.88e−5d^2gc + 4.09dgc + 1182\n",
    "\n",
    "then multiply by 3.16 (0r 3.10) to get CO2 emissions 3.16kg CO2/kg fuel burnt"
   ]
  },
  {
   "cell_type": "code",
   "execution_count": 98,
   "metadata": {},
   "outputs": [
    {
     "data": {
      "text/plain": [
       "{(('MXP', 'AMS'), 'E170'): 6869.87658645332,\n",
       " (('MXP', 'AMS'), 'A319'): 10046.322234070334,\n",
       " (('MXP', 'AMS'), 'A321'): 13924.378385795131,\n",
       " (('MXP', 'BUD'), 'E170'): 7056.096347051408,\n",
       " (('MXP', 'BUD'), 'A319'): 10300.55506774613,\n",
       " (('MXP', 'BUD'), 'A321'): 14339.646548737806,\n",
       " (('MXP', 'HEW'), 'E170'): 10904.886742349643,\n",
       " (('MXP', 'HEW'), 'A319'): 15671.430868548649,\n",
       " (('MXP', 'HEW'), 'A321'): 22829.947062518502,\n",
       " (('AMS', 'BUD'), 'E170'): 8981.250182264865,\n",
       " (('AMS', 'BUD'), 'A319'): 12959.305014273792,\n",
       " (('AMS', 'BUD'), 'A321'): 18608.512638852273,\n",
       " (('AMS', 'HEW'), 'E170'): 14679.601741131899,\n",
       " (('AMS', 'HEW'), 'A319'): 21154.369329593956,\n",
       " (('AMS', 'HEW'), 'A321'): 30985.69692629202,\n",
       " (('BUD', 'HEW'), 'E170'): 8707.981889528242,\n",
       " (('BUD', 'HEW'), 'A319'): 12578.522352597802,\n",
       " (('BUD', 'HEW'), 'A321'): 18005.25091853175}"
      ]
     },
     "execution_count": 98,
     "metadata": {},
     "output_type": "execute_result"
    }
   ],
   "source": [
    "# set of aircraft models\n",
    "A = ['E170', 'A319', 'A321']\n",
    "\n",
    "# Dictionary with pollution values for each flight-leg when operated by a specific aircraft type\n",
    "P = {} \n",
    "for flight_leg in F: \n",
    "    for aircraft in A: \n",
    "        dist = distances[flight_leg[0]][flight_leg[1]] \n",
    "        if aircraft == 'E170':\n",
    "            P[flight_leg, aircraft] = ((dist**2)*7.15e-7+dist*1.79+746)*3.16 # multiply by correction factor 3.16 to get pollution in CO2\n",
    "        elif aircraft =='A319':\n",
    "            P[flight_leg, aircraft] = ((dist**2)*7.70e-5+dist*2.32+1280)*3.16\n",
    "        else:\n",
    "            P[flight_leg, aircraft] = ((dist**2)*(-5.88e-5)+dist*4.09+1182)*3.16\n",
    "P \n",
    "    "
   ]
  },
  {
   "cell_type": "markdown",
   "metadata": {},
   "source": [
    "# PARAMETERS "
   ]
  },
  {
   "cell_type": "code",
   "execution_count": 90,
   "metadata": {},
   "outputs": [
    {
     "data": {
      "text/plain": [
       "{(('MXP', 'AMS'), 'E170'): 1,\n",
       " (('MXP', 'AMS'), 'A319'): 0,\n",
       " (('MXP', 'AMS'), 'A321'): 1,\n",
       " (('MXP', 'BUD'), 'E170'): 0,\n",
       " (('MXP', 'BUD'), 'A319'): 0,\n",
       " (('MXP', 'BUD'), 'A321'): 1,\n",
       " (('MXP', 'HEW'), 'E170'): 1,\n",
       " (('MXP', 'HEW'), 'A319'): 0,\n",
       " (('MXP', 'HEW'), 'A321'): 0,\n",
       " (('AMS', 'BUD'), 'E170'): 0,\n",
       " (('AMS', 'BUD'), 'A319'): 1,\n",
       " (('AMS', 'BUD'), 'A321'): 0,\n",
       " (('AMS', 'HEW'), 'E170'): 0,\n",
       " (('AMS', 'HEW'), 'A319'): 0,\n",
       " (('AMS', 'HEW'), 'A321'): 1,\n",
       " (('BUD', 'HEW'), 'E170'): 0,\n",
       " (('BUD', 'HEW'), 'A319'): 0,\n",
       " (('BUD', 'HEW'), 'A321'): 1}"
      ]
     },
     "execution_count": 90,
     "metadata": {},
     "output_type": "execute_result"
    }
   ],
   "source": [
    "# Tau : dummy for whether flight f can be operated with aircraft type a\n",
    "np.random.seed(1234)\n",
    "tau = {}\n",
    "for f in F:\n",
    "    for a in A:\n",
    "        if np.random.rand()<=0.5: #(0.5 probability of being yes or no)\n",
    "            tau[f, a]=1\n",
    "        else:\n",
    "            tau[f, a]=0\n",
    "tau"
   ]
  },
  {
   "cell_type": "code",
   "execution_count": 91,
   "metadata": {},
   "outputs": [
    {
     "data": {
      "text/plain": [
       "{('MXP', 'AMS'): 147,\n",
       " ('MXP', 'BUD'): 138,\n",
       " ('MXP', 'HEW'): 153,\n",
       " ('AMS', 'BUD'): 216,\n",
       " ('AMS', 'HEW'): 252,\n",
       " ('BUD', 'HEW'): 243}"
      ]
     },
     "execution_count": 91,
     "metadata": {},
     "output_type": "execute_result"
    }
   ],
   "source": [
    "# number of passengers estimated in the market for each airport pair\n",
    "np.random.seed(1234)\n",
    "d = {}\n",
    "for mkt in M:\n",
    "    d[mkt]=np.random.randint(100,300)\n",
    "d"
   ]
  },
  {
   "cell_type": "code",
   "execution_count": 92,
   "metadata": {},
   "outputs": [],
   "source": [
    "# seat capacity -> from Seymour et al. 2020 appendix L (ICAO codes)\n",
    "K = {'E170':74, 'A319': 137, 'A321':194}"
   ]
  },
  {
   "cell_type": "code",
   "execution_count": 93,
   "metadata": {},
   "outputs": [
    {
     "name": "stdout",
     "output_type": "stream",
     "text": [
      "{('MXP', 'AMS'): 0, ('MXP', 'BUD'): 1, ('MXP', 'HEW'): 1, ('AMS', 'BUD'): 0, ('AMS', 'HEW'): 1, ('BUD', 'HEW'): 1}\n"
     ]
    }
   ],
   "source": [
    "# flight activation - randomly assigned with 80% probability of being activated \n",
    "Z = {}\n",
    "for f in F: \n",
    "    if np.random.rand()<=0.8:\n",
    "        Z[f]=1\n",
    "    else:\n",
    "        Z[f]=0\n",
    "print(Z)"
   ]
  },
  {
   "cell_type": "code",
   "execution_count": 96,
   "metadata": {},
   "outputs": [
    {
     "name": "stdout",
     "output_type": "stream",
     "text": [
      "{('MXP', '-', 'AMS'): [('MXP', 'AMS')], ('MXP', '-', 'BUD'): [('MXP', 'BUD')], ('MXP', '-', 'HEW'): [('MXP', 'HEW')], ('AMS', '-', 'BUD'): [('AMS', 'BUD')], ('AMS', '-', 'HEW'): [('AMS', 'HEW')], ('BUD', '-', 'HEW'): [('BUD', 'HEW')], ('MXP', 'AMS', 'BUD'): [('MXP', 'AMS'), ('AMS', 'BUD')], ('MXP', 'AMS', 'HEW'): [('MXP', 'AMS'), ('AMS', 'HEW')], ('MXP', 'BUD', 'HEW'): [('MXP', 'BUD'), ('BUD', 'HEW')], ('AMS', 'BUD', 'HEW'): [('AMS', 'BUD'), ('BUD', 'HEW')]}\n"
     ]
    }
   ],
   "source": [
    "# itinerary activation \n",
    "# Fi = set of flights f contained in itinerary i \n",
    "F_i = {}\n",
    "for i in I:\n",
    "    flights=[]\n",
    "    for f in F:\n",
    "        if (i[0] == f[0] and i[2]==f[1] and i[1]=='-') or (i[1] == f[0] and i[2]==f[1]) or (i[0] == f[0] and i[1]==f[1]):\n",
    "            flights.append(f)\n",
    "        F_i[i] = flights\n",
    "            \n",
    "print(F_i) "
   ]
  },
  {
   "cell_type": "markdown",
   "metadata": {},
   "source": [
    "# MODEL SET UP "
   ]
  },
  {
   "cell_type": "code",
   "execution_count": 103,
   "metadata": {},
   "outputs": [],
   "source": [
    "# sets\n",
    "m = ConcreteModel()\n",
    "m.A=Set(initialize=A)\n",
    "m.F=Set(initialize=F)\n",
    "m.M=Set(initialize=M)\n",
    "m.I=Set(initialize=I)\n",
    "\n",
    "# parameters\n",
    "m.K=Param(m.A, initialize=K)\n",
    "m.d=Param(m.M, initialize=d)\n",
    "m.p=Param(m.F, m.A, initialize=P)\n",
    "m.tau=Param(m.F, m.A, initialize=tau)\n",
    "m.Z=Param(m.F, initialize=Z)\n",
    "\n",
    "# decision variables\n",
    "m.x=Var(m.F, m.A, domain=NonNegativeIntegers)# number of flights on flight-leg f operated by aircraft a\n",
    "m.q=Var(m.I, domain=NonNegativeIntegers) # number of pax transported on itinerary I "
   ]
  },
  {
   "cell_type": "code",
   "execution_count": 104,
   "metadata": {},
   "outputs": [],
   "source": [
    "# model objective and constraints\n",
    "m.obj= Objective(expr=sum(m.x[f, a]*m.p[f,a] for f in m.F for a in m.A), sense=minimize)\n",
    "\n",
    "m.operational=ConstraintList()\n",
    "for f in m.F:\n",
    "        for a in m.A:\n",
    "            m.operational.add(m.x[f, a]<= m.tau[f, a]*1000000)\n",
    "                 \n",
    "m.demand=ConstraintList()\n",
    "for mkt in m.M:\n",
    "        m.demand.add(sum(m.q[i] for i in m.I if mkt[0]==i[0] and mkt[1]==i[2])>= m.d[mkt])\n",
    "        \n",
    "m.capacity=ConstraintList()\n",
    "for f in m.F:\n",
    "        m.capacity.add(sum(m.q[i] for i in m.I if (f[0]==i[0] and f[1]==i[2] and i[1]=='-') \n",
    "                           or (f[0]==i[0] and f[1]==i[1]) or (f[0]==i[1] and f[1]==i[2])) \n",
    "                       <= sum(m.x[f,a] * m.K[a] for a in A )) \n",
    "\n",
    "#m.itinerary_activation=ConstraintList()\n",
    "#for i in m.I:\n",
    "#    m.itinerary_activation.add(m.Z[f]<=m.Z[f] for f in m.F if (i[0] == f[0] and i[2]==f[1] and i[1]=='-') \n",
    "#                               or (i[1] == f[0] and i[2]==f[1]) or (i[0] == f[0] and i[1]==f[1]))\n",
    "    "
   ]
  },
  {
   "cell_type": "code",
   "execution_count": 105,
   "metadata": {},
   "outputs": [
    {
     "name": "stdout",
     "output_type": "stream",
     "text": [
      "Welcome to the CBC MILP Solver \n",
      "Version: 2.10.5 \n",
      "Build Date: Aug 12 2020 \n",
      "\n",
      "command line - /usr/local/bin/cbc -mipgap 0.2 -printingOptions all -import /var/folders/wt/wvx51pxn2213wbhxthm8s1380000gn/T/tmp9ls44svp.pyomo.lp -stat=1 -solve -solu /var/folders/wt/wvx51pxn2213wbhxthm8s1380000gn/T/tmp9ls44svp.pyomo.soln (default strategy 1)\n",
      "No match for mipgap - ? for list of commands\n",
      "No match for 0.2 - ? for list of commands\n",
      "Option for printingOptions changed from normal to all\n",
      "Presolve is modifying 7 integer bounds and re-presolving\n",
      "Presolve 9 (-22) rows, 14 (-15) columns and 25 (-36) elements\n",
      "Statistics for presolved model\n",
      "Original problem has 28 integers (0 of which binary)\n",
      "Presolved problem has 14 integers (0 of which binary)\n",
      "==== 7 zero objective 8 different\n",
      "7 variables have objective of 0\n",
      "1 variables have objective of 6869.88\n",
      "1 variables have objective of 10904.9\n",
      "1 variables have objective of 12959.3\n",
      "1 variables have objective of 13924.4\n",
      "1 variables have objective of 14339.6\n",
      "1 variables have objective of 18005.3\n",
      "1 variables have objective of 30985.7\n",
      "==== absolute objective values 8 different\n",
      "7 variables have objective of 0\n",
      "1 variables have objective of 6869.88\n",
      "1 variables have objective of 10904.9\n",
      "1 variables have objective of 12959.3\n",
      "1 variables have objective of 13924.4\n",
      "1 variables have objective of 14339.6\n",
      "1 variables have objective of 18005.3\n",
      "1 variables have objective of 30985.7\n",
      "==== for integers 7 zero objective 8 different\n",
      "7 variables have objective of 0\n",
      "1 variables have objective of 6869.88\n",
      "1 variables have objective of 10904.9\n",
      "1 variables have objective of 12959.3\n",
      "1 variables have objective of 13924.4\n",
      "1 variables have objective of 14339.6\n",
      "1 variables have objective of 18005.3\n",
      "1 variables have objective of 30985.7\n",
      "==== for integers absolute objective values 8 different\n",
      "7 variables have objective of 0\n",
      "1 variables have objective of 6869.88\n",
      "1 variables have objective of 10904.9\n",
      "1 variables have objective of 12959.3\n",
      "1 variables have objective of 13924.4\n",
      "1 variables have objective of 14339.6\n",
      "1 variables have objective of 18005.3\n",
      "1 variables have objective of 30985.7\n",
      "===== end objective counts\n",
      "\n",
      "\n",
      "Problem has 9 rows, 14 columns (7 with objective) and 25 elements\n",
      "There are 7 singletons with objective \n",
      "Column breakdown:\n",
      "7 of type 0.0->inf, 7 of type 0.0->up, 0 of type lo->inf, \n",
      "0 of type lo->up, 0 of type free, 0 of type fixed, \n",
      "0 of type -inf->0.0, 0 of type -inf->up, 0 of type 0.0->1.0 \n",
      "Row breakdown:\n",
      "0 of type E 0.0, 0 of type E 1.0, 0 of type E -1.0, \n",
      "0 of type E other, 0 of type G 0.0, 0 of type G 1.0, \n",
      "3 of type G other, 3 of type L 0.0, 0 of type L 1.0, \n",
      "3 of type L other, 0 of type Range 0.0->1.0, 0 of type Range other, \n",
      "0 of type Free \n",
      "Continuous objective value is 126533 - 0.00 seconds\n",
      "Cgl0003I 0 fixed, 6 tightened bounds, 0 strengthened rows, 0 substitutions\n",
      "Cgl0004I processed model has 9 rows, 14 columns (14 integer (0 of which binary)) and 25 elements\n",
      "Cbc0012I Integer solution of 146423.37 found by DiveCoefficient after 0 iterations and 0 nodes (0.01 seconds)\n",
      "Cbc0038I Full problem 9 rows 14 columns, reduced to 0 rows 0 columns\n",
      "Cbc0031I 7 added rows had average density of 10.428571\n",
      "Cbc0013I At root node, 7 cuts changed objective from 129822.77 to 139935.75 in 100 passes\n",
      "Cbc0014I Cut generator 0 (Probing) - 0 row cuts average 0.0 elements, 3 column cuts (3 active)  in 0.007 seconds - new frequency is -100\n",
      "Cbc0014I Cut generator 1 (Gomory) - 444 row cuts average 11.6 elements, 0 column cuts (0 active)  in 0.015 seconds - new frequency is 1\n",
      "Cbc0014I Cut generator 2 (Knapsack) - 0 row cuts average 0.0 elements, 0 column cuts (0 active)  in 0.004 seconds - new frequency is -100\n",
      "Cbc0014I Cut generator 3 (Clique) - 0 row cuts average 0.0 elements, 0 column cuts (0 active)  in 0.000 seconds - new frequency is -100\n",
      "Cbc0014I Cut generator 4 (MixedIntegerRounding2) - 7 row cuts average 4.9 elements, 0 column cuts (0 active)  in 0.004 seconds - new frequency is -100\n",
      "Cbc0014I Cut generator 5 (FlowCover) - 0 row cuts average 0.0 elements, 0 column cuts (0 active)  in 0.007 seconds - new frequency is -100\n",
      "Cbc0014I Cut generator 6 (TwoMirCuts) - 25 row cuts average 7.2 elements, 0 column cuts (0 active)  in 0.006 seconds - new frequency is 1\n",
      "Cbc0010I After 0 nodes, 1 on tree, 146423.37 best solution, best possible 139935.75 (0.11 seconds)\n",
      "Cbc0012I Integer solution of 142988.61 found by DiveCoefficient after 607 iterations and 2 nodes (0.12 seconds)\n",
      "Cbc0012I Integer solution of 142803.98 found by DiveCoefficient after 678 iterations and 6 nodes (0.13 seconds)\n",
      "Cbc0001I Search completed - best objective 142803.9819982468, took 744 iterations and 10 nodes (0.13 seconds)\n",
      "Cbc0032I Strong branching done 72 times (137 iterations), fathomed 0 nodes and fixed 3 variables\n",
      "Cbc0035I Maximum depth 3, 4 variables fixed on reduced cost\n",
      "Cuts at root node changed objective from 129823 to 139936\n",
      "Probing was tried 100 times and created 3 cuts of which 0 were active after adding rounds of cuts (0.007 seconds)\n",
      "Gomory was tried 125 times and created 483 cuts of which 0 were active after adding rounds of cuts (0.017 seconds)\n",
      "Knapsack was tried 100 times and created 0 cuts of which 0 were active after adding rounds of cuts (0.004 seconds)\n",
      "Clique was tried 100 times and created 0 cuts of which 0 were active after adding rounds of cuts (0.000 seconds)\n",
      "MixedIntegerRounding2 was tried 100 times and created 7 cuts of which 0 were active after adding rounds of cuts (0.004 seconds)\n",
      "FlowCover was tried 100 times and created 0 cuts of which 0 were active after adding rounds of cuts (0.007 seconds)\n",
      "TwoMirCuts was tried 125 times and created 33 cuts of which 0 were active after adding rounds of cuts (0.008 seconds)\n",
      "ZeroHalf was tried 1 times and created 0 cuts of which 0 were active after adding rounds of cuts (0.000 seconds)\n",
      "\n",
      "Result - Optimal solution found\n",
      "\n",
      "Objective value:                142803.98199825\n",
      "Enumerated nodes:               10\n",
      "Total iterations:               744\n",
      "Time (CPU seconds):             0.13\n",
      "Time (Wallclock seconds):       0.26\n",
      "\n",
      "Total time (CPU seconds):       0.13   (Wallclock seconds):       0.27\n",
      "\n"
     ]
    }
   ],
   "source": [
    "# calling the solver -> using cbc\n",
    "\n",
    "#%%time # what do we need this for?\n",
    "opt = SolverFactory('cbc', executable=r'/usr/local/bin/cbc')\n",
    "opt.options['mipgap']=0.20 # what is mipgap?\n",
    "results = opt.solve(m, tee=True) # what is tee?"
   ]
  },
  {
   "cell_type": "code",
   "execution_count": 106,
   "metadata": {
    "scrolled": false
   },
   "outputs": [
    {
     "name": "stdout",
     "output_type": "stream",
     "text": [
      "10 Set Declarations\n",
      "    A : Size=1, Index=None, Ordered=Insertion\n",
      "        Key  : Dimen : Domain : Size : Members\n",
      "        None :     1 :    Any :    3 : {'E170', 'A319', 'A321'}\n",
      "    F : Size=1, Index=None, Ordered=Insertion\n",
      "        Key  : Dimen : Domain : Size : Members\n",
      "        None :     2 :    Any :    6 : {('MXP', 'AMS'), ('MXP', 'BUD'), ('MXP', 'HEW'), ('AMS', 'BUD'), ('AMS', 'HEW'), ('BUD', 'HEW')}\n",
      "    I : Size=1, Index=None, Ordered=Insertion\n",
      "        Key  : Dimen : Domain : Size : Members\n",
      "        None :     3 :    Any :   10 : {('MXP', '-', 'AMS'), ('MXP', '-', 'BUD'), ('MXP', '-', 'HEW'), ('AMS', '-', 'BUD'), ('AMS', '-', 'HEW'), ('BUD', '-', 'HEW'), ('MXP', 'AMS', 'BUD'), ('MXP', 'AMS', 'HEW'), ('MXP', 'BUD', 'HEW'), ('AMS', 'BUD', 'HEW')}\n",
      "    M : Size=1, Index=None, Ordered=Insertion\n",
      "        Key  : Dimen : Domain : Size : Members\n",
      "        None :     2 :    Any :    6 : {('MXP', 'AMS'), ('MXP', 'BUD'), ('MXP', 'HEW'), ('AMS', 'BUD'), ('AMS', 'HEW'), ('BUD', 'HEW')}\n",
      "    capacity_index : Size=1, Index=None, Ordered=Insertion\n",
      "        Key  : Dimen : Domain : Size : Members\n",
      "        None :     1 :    Any :    6 : {1, 2, 3, 4, 5, 6}\n",
      "    demand_index : Size=1, Index=None, Ordered=Insertion\n",
      "        Key  : Dimen : Domain : Size : Members\n",
      "        None :     1 :    Any :    6 : {1, 2, 3, 4, 5, 6}\n",
      "    operational_index : Size=1, Index=None, Ordered=Insertion\n",
      "        Key  : Dimen : Domain : Size : Members\n",
      "        None :     1 :    Any :   18 : {1, 2, 3, 4, 5, 6, 7, 8, 9, 10, 11, 12, 13, 14, 15, 16, 17, 18}\n",
      "    p_index : Size=1, Index=None, Ordered=True\n",
      "        Key  : Dimen : Domain : Size : Members\n",
      "        None :     3 :    F*A :   18 : {('MXP', 'AMS', 'E170'), ('MXP', 'AMS', 'A319'), ('MXP', 'AMS', 'A321'), ('MXP', 'BUD', 'E170'), ('MXP', 'BUD', 'A319'), ('MXP', 'BUD', 'A321'), ('MXP', 'HEW', 'E170'), ('MXP', 'HEW', 'A319'), ('MXP', 'HEW', 'A321'), ('AMS', 'BUD', 'E170'), ('AMS', 'BUD', 'A319'), ('AMS', 'BUD', 'A321'), ('AMS', 'HEW', 'E170'), ('AMS', 'HEW', 'A319'), ('AMS', 'HEW', 'A321'), ('BUD', 'HEW', 'E170'), ('BUD', 'HEW', 'A319'), ('BUD', 'HEW', 'A321')}\n",
      "    tau_index : Size=1, Index=None, Ordered=True\n",
      "        Key  : Dimen : Domain : Size : Members\n",
      "        None :     3 :    F*A :   18 : {('MXP', 'AMS', 'E170'), ('MXP', 'AMS', 'A319'), ('MXP', 'AMS', 'A321'), ('MXP', 'BUD', 'E170'), ('MXP', 'BUD', 'A319'), ('MXP', 'BUD', 'A321'), ('MXP', 'HEW', 'E170'), ('MXP', 'HEW', 'A319'), ('MXP', 'HEW', 'A321'), ('AMS', 'BUD', 'E170'), ('AMS', 'BUD', 'A319'), ('AMS', 'BUD', 'A321'), ('AMS', 'HEW', 'E170'), ('AMS', 'HEW', 'A319'), ('AMS', 'HEW', 'A321'), ('BUD', 'HEW', 'E170'), ('BUD', 'HEW', 'A319'), ('BUD', 'HEW', 'A321')}\n",
      "    x_index : Size=1, Index=None, Ordered=True\n",
      "        Key  : Dimen : Domain : Size : Members\n",
      "        None :     3 :    F*A :   18 : {('MXP', 'AMS', 'E170'), ('MXP', 'AMS', 'A319'), ('MXP', 'AMS', 'A321'), ('MXP', 'BUD', 'E170'), ('MXP', 'BUD', 'A319'), ('MXP', 'BUD', 'A321'), ('MXP', 'HEW', 'E170'), ('MXP', 'HEW', 'A319'), ('MXP', 'HEW', 'A321'), ('AMS', 'BUD', 'E170'), ('AMS', 'BUD', 'A319'), ('AMS', 'BUD', 'A321'), ('AMS', 'HEW', 'E170'), ('AMS', 'HEW', 'A319'), ('AMS', 'HEW', 'A321'), ('BUD', 'HEW', 'E170'), ('BUD', 'HEW', 'A319'), ('BUD', 'HEW', 'A321')}\n",
      "\n",
      "5 Param Declarations\n",
      "    K : Size=3, Index=A, Domain=Any, Default=None, Mutable=False\n",
      "        Key  : Value\n",
      "        A319 :   137\n",
      "        A321 :   194\n",
      "        E170 :    74\n",
      "    Z : Size=6, Index=F, Domain=Any, Default=None, Mutable=False\n",
      "        Key            : Value\n",
      "        ('AMS', 'BUD') :     0\n",
      "        ('AMS', 'HEW') :     1\n",
      "        ('BUD', 'HEW') :     1\n",
      "        ('MXP', 'AMS') :     0\n",
      "        ('MXP', 'BUD') :     1\n",
      "        ('MXP', 'HEW') :     1\n",
      "    d : Size=6, Index=M, Domain=Any, Default=None, Mutable=False\n",
      "        Key            : Value\n",
      "        ('AMS', 'BUD') :   216\n",
      "        ('AMS', 'HEW') :   252\n",
      "        ('BUD', 'HEW') :   243\n",
      "        ('MXP', 'AMS') :   147\n",
      "        ('MXP', 'BUD') :   138\n",
      "        ('MXP', 'HEW') :   153\n",
      "    p : Size=18, Index=p_index, Domain=Any, Default=None, Mutable=False\n",
      "        Key                    : Value\n",
      "        ('AMS', 'BUD', 'A319') : 12959.305014273792\n",
      "        ('AMS', 'BUD', 'A321') : 18608.512638852273\n",
      "        ('AMS', 'BUD', 'E170') :  8981.250182264865\n",
      "        ('AMS', 'HEW', 'A319') : 21154.369329593956\n",
      "        ('AMS', 'HEW', 'A321') :  30985.69692629202\n",
      "        ('AMS', 'HEW', 'E170') : 14679.601741131899\n",
      "        ('BUD', 'HEW', 'A319') : 12578.522352597802\n",
      "        ('BUD', 'HEW', 'A321') :  18005.25091853175\n",
      "        ('BUD', 'HEW', 'E170') :  8707.981889528242\n",
      "        ('MXP', 'AMS', 'A319') : 10046.322234070334\n",
      "        ('MXP', 'AMS', 'A321') : 13924.378385795131\n",
      "        ('MXP', 'AMS', 'E170') :   6869.87658645332\n",
      "        ('MXP', 'BUD', 'A319') :  10300.55506774613\n",
      "        ('MXP', 'BUD', 'A321') : 14339.646548737806\n",
      "        ('MXP', 'BUD', 'E170') :  7056.096347051408\n",
      "        ('MXP', 'HEW', 'A319') : 15671.430868548649\n",
      "        ('MXP', 'HEW', 'A321') : 22829.947062518502\n",
      "        ('MXP', 'HEW', 'E170') : 10904.886742349643\n",
      "    tau : Size=18, Index=tau_index, Domain=Any, Default=None, Mutable=False\n",
      "        Key                    : Value\n",
      "        ('AMS', 'BUD', 'A319') :     1\n",
      "        ('AMS', 'BUD', 'A321') :     0\n",
      "        ('AMS', 'BUD', 'E170') :     0\n",
      "        ('AMS', 'HEW', 'A319') :     0\n",
      "        ('AMS', 'HEW', 'A321') :     1\n",
      "        ('AMS', 'HEW', 'E170') :     0\n",
      "        ('BUD', 'HEW', 'A319') :     0\n",
      "        ('BUD', 'HEW', 'A321') :     1\n",
      "        ('BUD', 'HEW', 'E170') :     0\n",
      "        ('MXP', 'AMS', 'A319') :     0\n",
      "        ('MXP', 'AMS', 'A321') :     1\n",
      "        ('MXP', 'AMS', 'E170') :     1\n",
      "        ('MXP', 'BUD', 'A319') :     0\n",
      "        ('MXP', 'BUD', 'A321') :     1\n",
      "        ('MXP', 'BUD', 'E170') :     0\n",
      "        ('MXP', 'HEW', 'A319') :     0\n",
      "        ('MXP', 'HEW', 'A321') :     0\n",
      "        ('MXP', 'HEW', 'E170') :     1\n",
      "\n",
      "2 Var Declarations\n",
      "    q : Size=10, Index=I\n",
      "        Key                   : Lower : Value : Upper : Fixed : Stale : Domain\n",
      "          ('AMS', '-', 'BUD') :     0 : 216.0 :  None : False : False : NonNegativeIntegers\n",
      "          ('AMS', '-', 'HEW') :     0 : 194.0 :  None : False : False : NonNegativeIntegers\n",
      "        ('AMS', 'BUD', 'HEW') :     0 :  58.0 :  None : False : False : NonNegativeIntegers\n",
      "          ('BUD', '-', 'HEW') :     0 : 243.0 :  None : False : False : NonNegativeIntegers\n",
      "          ('MXP', '-', 'AMS') :     0 : 147.0 :  None : False : False : NonNegativeIntegers\n",
      "          ('MXP', '-', 'BUD') :     0 : 159.0 :  None : False : False : NonNegativeIntegers\n",
      "          ('MXP', '-', 'HEW') :     0 : 118.0 :  None : False : False : NonNegativeIntegers\n",
      "        ('MXP', 'AMS', 'BUD') :     0 :   0.0 :  None : False : False : NonNegativeIntegers\n",
      "        ('MXP', 'AMS', 'HEW') :     0 :   0.0 :  None : False : False : NonNegativeIntegers\n",
      "        ('MXP', 'BUD', 'HEW') :     0 :  35.0 :  None : False : False : NonNegativeIntegers\n",
      "    x : Size=18, Index=x_index\n",
      "        Key                    : Lower : Value : Upper : Fixed : Stale : Domain\n",
      "        ('AMS', 'BUD', 'A319') :     0 :   2.0 :  None : False : False : NonNegativeIntegers\n",
      "        ('AMS', 'BUD', 'A321') :     0 :   0.0 :  None : False : False : NonNegativeIntegers\n",
      "        ('AMS', 'BUD', 'E170') :     0 :   0.0 :  None : False : False : NonNegativeIntegers\n",
      "        ('AMS', 'HEW', 'A319') :     0 :   0.0 :  None : False : False : NonNegativeIntegers\n",
      "        ('AMS', 'HEW', 'A321') :     0 :   1.0 :  None : False : False : NonNegativeIntegers\n",
      "        ('AMS', 'HEW', 'E170') :     0 :   0.0 :  None : False : False : NonNegativeIntegers\n",
      "        ('BUD', 'HEW', 'A319') :     0 :   0.0 :  None : False : False : NonNegativeIntegers\n",
      "        ('BUD', 'HEW', 'A321') :     0 :   2.0 :  None : False : False : NonNegativeIntegers\n",
      "        ('BUD', 'HEW', 'E170') :     0 :   0.0 :  None : False : False : NonNegativeIntegers\n",
      "        ('MXP', 'AMS', 'A319') :     0 :   0.0 :  None : False : False : NonNegativeIntegers\n",
      "        ('MXP', 'AMS', 'A321') :     0 :   0.0 :  None : False : False : NonNegativeIntegers\n",
      "        ('MXP', 'AMS', 'E170') :     0 :   2.0 :  None : False : False : NonNegativeIntegers\n",
      "        ('MXP', 'BUD', 'A319') :     0 :   0.0 :  None : False : False : NonNegativeIntegers\n",
      "        ('MXP', 'BUD', 'A321') :     0 :   1.0 :  None : False : False : NonNegativeIntegers\n",
      "        ('MXP', 'BUD', 'E170') :     0 :   0.0 :  None : False : False : NonNegativeIntegers\n",
      "        ('MXP', 'HEW', 'A319') :     0 :   0.0 :  None : False : False : NonNegativeIntegers\n",
      "        ('MXP', 'HEW', 'A321') :     0 :   0.0 :  None : False : False : NonNegativeIntegers\n",
      "        ('MXP', 'HEW', 'E170') :     0 :   2.0 :  None : False : False : NonNegativeIntegers\n",
      "\n",
      "1 Objective Declarations\n",
      "    obj : Size=1, Index=None, Active=True\n",
      "        Key  : Active : Sense    : Expression\n",
      "        None :   True : minimize : 6869.87658645332*x[MXP,AMS,E170] + 10046.322234070334*x[MXP,AMS,A319] + 13924.378385795131*x[MXP,AMS,A321] + 7056.096347051408*x[MXP,BUD,E170] + 10300.55506774613*x[MXP,BUD,A319] + 14339.646548737806*x[MXP,BUD,A321] + 10904.886742349643*x[MXP,HEW,E170] + 15671.430868548649*x[MXP,HEW,A319] + 22829.947062518502*x[MXP,HEW,A321] + 8981.250182264865*x[AMS,BUD,E170] + 12959.305014273792*x[AMS,BUD,A319] + 18608.512638852273*x[AMS,BUD,A321] + 14679.601741131899*x[AMS,HEW,E170] + 21154.369329593956*x[AMS,HEW,A319] + 30985.69692629202*x[AMS,HEW,A321] + 8707.981889528242*x[BUD,HEW,E170] + 12578.522352597802*x[BUD,HEW,A319] + 18005.25091853175*x[BUD,HEW,A321]\n",
      "\n",
      "3 Constraint Declarations\n",
      "    capacity : Size=6, Index=capacity_index, Active=True\n",
      "        Key : Lower : Body                                                                                                              : Upper : Active\n",
      "          1 :  -Inf : q[MXP,-,AMS] + q[MXP,AMS,BUD] + q[MXP,AMS,HEW] - (74*x[MXP,AMS,E170] + 137*x[MXP,AMS,A319] + 194*x[MXP,AMS,A321]) :   0.0 :   True\n",
      "          2 :  -Inf :                  q[MXP,-,BUD] + q[MXP,BUD,HEW] - (74*x[MXP,BUD,E170] + 137*x[MXP,BUD,A319] + 194*x[MXP,BUD,A321]) :   0.0 :   True\n",
      "          3 :  -Inf :                                   q[MXP,-,HEW] - (74*x[MXP,HEW,E170] + 137*x[MXP,HEW,A319] + 194*x[MXP,HEW,A321]) :   0.0 :   True\n",
      "          4 :  -Inf : q[AMS,-,BUD] + q[MXP,AMS,BUD] + q[AMS,BUD,HEW] - (74*x[AMS,BUD,E170] + 137*x[AMS,BUD,A319] + 194*x[AMS,BUD,A321]) :   0.0 :   True\n",
      "          5 :  -Inf :                  q[AMS,-,HEW] + q[MXP,AMS,HEW] - (74*x[AMS,HEW,E170] + 137*x[AMS,HEW,A319] + 194*x[AMS,HEW,A321]) :   0.0 :   True\n",
      "          6 :  -Inf : q[BUD,-,HEW] + q[MXP,BUD,HEW] + q[AMS,BUD,HEW] - (74*x[BUD,HEW,E170] + 137*x[BUD,HEW,A319] + 194*x[BUD,HEW,A321]) :   0.0 :   True\n",
      "    demand : Size=6, Index=demand_index, Active=True\n",
      "        Key : Lower : Body                                           : Upper : Active\n",
      "          1 : 147.0 :                                   q[MXP,-,AMS] :  +Inf :   True\n",
      "          2 : 138.0 :                  q[MXP,-,BUD] + q[MXP,AMS,BUD] :  +Inf :   True\n",
      "          3 : 153.0 : q[MXP,-,HEW] + q[MXP,AMS,HEW] + q[MXP,BUD,HEW] :  +Inf :   True\n",
      "          4 : 216.0 :                                   q[AMS,-,BUD] :  +Inf :   True\n",
      "          5 : 252.0 :                  q[AMS,-,HEW] + q[AMS,BUD,HEW] :  +Inf :   True\n",
      "          6 : 243.0 :                                   q[BUD,-,HEW] :  +Inf :   True\n",
      "    operational : Size=18, Index=operational_index, Active=True\n",
      "        Key : Lower : Body            : Upper     : Active\n",
      "          1 :  -Inf : x[MXP,AMS,E170] : 1000000.0 :   True\n",
      "          2 :  -Inf : x[MXP,AMS,A319] :       0.0 :   True\n",
      "          3 :  -Inf : x[MXP,AMS,A321] : 1000000.0 :   True\n",
      "          4 :  -Inf : x[MXP,BUD,E170] :       0.0 :   True\n",
      "          5 :  -Inf : x[MXP,BUD,A319] :       0.0 :   True\n",
      "          6 :  -Inf : x[MXP,BUD,A321] : 1000000.0 :   True\n",
      "          7 :  -Inf : x[MXP,HEW,E170] : 1000000.0 :   True\n",
      "          8 :  -Inf : x[MXP,HEW,A319] :       0.0 :   True\n",
      "          9 :  -Inf : x[MXP,HEW,A321] :       0.0 :   True\n",
      "         10 :  -Inf : x[AMS,BUD,E170] :       0.0 :   True\n",
      "         11 :  -Inf : x[AMS,BUD,A319] : 1000000.0 :   True\n",
      "         12 :  -Inf : x[AMS,BUD,A321] :       0.0 :   True\n",
      "         13 :  -Inf : x[AMS,HEW,E170] :       0.0 :   True\n",
      "         14 :  -Inf : x[AMS,HEW,A319] :       0.0 :   True\n",
      "         15 :  -Inf : x[AMS,HEW,A321] : 1000000.0 :   True\n",
      "         16 :  -Inf : x[BUD,HEW,E170] :       0.0 :   True\n",
      "         17 :  -Inf : x[BUD,HEW,A319] :       0.0 :   True\n",
      "         18 :  -Inf : x[BUD,HEW,A321] : 1000000.0 :   True\n",
      "\n",
      "21 Declarations: A F M I K d p_index p tau_index tau Z x_index x q obj operational_index operational demand_index demand capacity_index capacity\n"
     ]
    }
   ],
   "source": [
    "# MAKING SURE THE MODEL HAS BEEN SET UP PROPERLY (i.e. IT'S DOING WHAT WE WANT IT TO DO)\n",
    "m.pprint()"
   ]
  },
  {
   "cell_type": "code",
   "execution_count": 108,
   "metadata": {},
   "outputs": [
    {
     "name": "stdout",
     "output_type": "stream",
     "text": [
      "('MXP', 'AMS')-E170: 2.0\n",
      "('MXP', 'AMS')-A319: 0.0\n",
      "('MXP', 'AMS')-A321: 0.0\n",
      "('MXP', 'BUD')-E170: 0.0\n",
      "('MXP', 'BUD')-A319: 0.0\n",
      "('MXP', 'BUD')-A321: 1.0\n",
      "('MXP', 'HEW')-E170: 2.0\n",
      "('MXP', 'HEW')-A319: 0.0\n",
      "('MXP', 'HEW')-A321: 0.0\n",
      "('AMS', 'BUD')-E170: 0.0\n",
      "('AMS', 'BUD')-A319: 2.0\n",
      "('AMS', 'BUD')-A321: 0.0\n",
      "('AMS', 'HEW')-E170: 0.0\n",
      "('AMS', 'HEW')-A319: 0.0\n",
      "('AMS', 'HEW')-A321: 1.0\n",
      "('BUD', 'HEW')-E170: 0.0\n",
      "('BUD', 'HEW')-A319: 0.0\n",
      "('BUD', 'HEW')-A321: 2.0\n"
     ]
    }
   ],
   "source": [
    "# PRINTING SOME RESULTS: number of flights on flight-leg f operated by aircraft a\n",
    "for f in m.F:\n",
    "    for a in m.A:\n",
    "        print('%s-%s: %s' % (f, a, m.x[f,a].value)) "
   ]
  },
  {
   "cell_type": "markdown",
   "metadata": {},
   "source": [
    "### ------------------------------------------------------------------------------------------------------------------------\n",
    "### EXTRA CODE"
   ]
  },
  {
   "cell_type": "markdown",
   "metadata": {},
   "source": [
    "#### subset of flights that make up an itinerary (muted code)\n",
    "F_i = {}\n",
    "for i in I:\n",
    "    X = []\n",
    "    for f in F:\n",
    "        if len(i) == 2 and f[0]==i[0] and f[-1]==i[-1]: \n",
    "            F_i[i] = f\n",
    "        elif len(i) != 2:\n",
    "            if f[0]==i[0] or f[-1]==i[-1]:\n",
    "                X.append(f)\n",
    "            F_i[i] = X\n",
    "print(F_i)\n",
    "            "
   ]
  }
 ],
 "metadata": {
  "kernelspec": {
   "display_name": "Python 3 (ipykernel)",
   "language": "python",
   "name": "python3"
  },
  "language_info": {
   "codemirror_mode": {
    "name": "ipython",
    "version": 3
   },
   "file_extension": ".py",
   "mimetype": "text/x-python",
   "name": "python",
   "nbconvert_exporter": "python",
   "pygments_lexer": "ipython3",
   "version": "3.9.7"
  }
 },
 "nbformat": 4,
 "nbformat_minor": 4
}
